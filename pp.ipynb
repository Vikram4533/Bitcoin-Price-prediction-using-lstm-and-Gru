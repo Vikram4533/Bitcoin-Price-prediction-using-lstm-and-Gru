{
 "cells": [
  {
   "cell_type": "code",
   "execution_count": 1,
   "metadata": {},
   "outputs": [
    {
     "name": "stderr",
     "output_type": "stream",
     "text": [
      "Using TensorFlow backend.\n"
     ]
    },
    {
     "data": {
      "text/html": [
       "<script type=\"text/javascript\">window.PlotlyConfig = {MathJaxConfig: 'local'};</script><script type=\"text/javascript\">if (window.MathJax) {MathJax.Hub.Config({SVG: {font: \"STIX-Web\"}});}</script><script>requirejs.config({paths: { 'plotly': ['https://cdn.plot.ly/plotly-latest.min']},});if(!window._Plotly) {require(['plotly'],function(plotly) {window._Plotly=plotly;});}</script>"
      ],
      "text/vnd.plotly.v1+html": [
       "<script type=\"text/javascript\">window.PlotlyConfig = {MathJaxConfig: 'local'};</script><script type=\"text/javascript\">if (window.MathJax) {MathJax.Hub.Config({SVG: {font: \"STIX-Web\"}});}</script><script>requirejs.config({paths: { 'plotly': ['https://cdn.plot.ly/plotly-latest.min']},});if(!window._Plotly) {require(['plotly'],function(plotly) {window._Plotly=plotly;});}</script>"
      ]
     },
     "metadata": {},
     "output_type": "display_data"
    }
   ],
   "source": [
    "import warnings\n",
    "warnings.filterwarnings(\"ignore\")\n",
    "\n",
    "import numpy as np\n",
    "import pandas as pd\n",
    "import statsmodels.api as sm\n",
    "from scipy import stats\n",
    "from sklearn.metrics import mean_squared_error\n",
    "from math import sqrt\n",
    "from random import randint\n",
    "from keras.models import Sequential\n",
    "from keras.layers import Dense\n",
    "from keras.layers import LSTM\n",
    "from keras.layers import GRU\n",
    "from keras.callbacks import EarlyStopping\n",
    "from keras import initializers\n",
    "from matplotlib import pyplot\n",
    "from datetime import datetime\n",
    "from matplotlib import pyplot as plt\n",
    "import plotly.offline as py\n",
    "import plotly.graph_objs as go\n",
    "py.init_notebook_mode(connected=True)\n",
    "%matplotlib inline"
   ]
  },
  {
   "cell_type": "code",
   "execution_count": 2,
   "metadata": {},
   "outputs": [
    {
     "name": "stdout",
     "output_type": "stream",
     "text": [
      "done\n"
     ]
    }
   ],
   "source": [
    "fp = open('bitstampUSD_1-min_data_2012-01-01_to_2019-03-13.csv','r')\n",
    "data=fp.readlines()\n",
    "fp.close()\n",
    "fp= open(\"newdata.csv\",\"w\")\n",
    "k=[]\n",
    "prev=[]\n",
    "for i in data:\n",
    "    pre=i.split(\",\")\n",
    "    if(pre.count(\"NaN\")==6):\n",
    "        prev[0]=pre[0]\n",
    "        fp.write(\",\".join(prev))     \n",
    "    else:\n",
    "        fp.write(\",\".join(pre))   \n",
    "        prev=pre\n",
    "print(\"done\")\n",
    "fp.close()"
   ]
  },
  {
   "cell_type": "code",
   "execution_count": 3,
   "metadata": {},
   "outputs": [
    {
     "data": {
      "text/plain": [
       "False"
      ]
     },
     "execution_count": 3,
     "metadata": {},
     "output_type": "execute_result"
    }
   ],
   "source": [
    "data = pd.read_csv('newdata.csv')\n",
    "data.isnull().values.any()"
   ]
  },
  {
   "cell_type": "code",
   "execution_count": 4,
   "metadata": {},
   "outputs": [
    {
     "data": {
      "text/plain": [
       "date\n",
       "2011-12-31    4.472579\n",
       "2012-01-01    4.680778\n",
       "2012-01-02    5.000000\n",
       "2012-01-03    5.145917\n",
       "2012-01-04    5.195443\n",
       "Name: Weighted_Price, dtype: float64"
      ]
     },
     "execution_count": 4,
     "metadata": {},
     "output_type": "execute_result"
    }
   ],
   "source": [
    "data['date'] = pd.to_datetime(data['Timestamp'],unit='s').dt.date\n",
    "group = data.groupby('date')\n",
    "Daily_Price = group['Weighted_Price'].mean()\n",
    "\n",
    "Daily_Price.head()"
   ]
  },
  {
   "cell_type": "code",
   "execution_count": 5,
   "metadata": {},
   "outputs": [
    {
     "name": "stdout",
     "output_type": "stream",
     "text": [
      "671\n",
      "66\n",
      "6\n"
     ]
    }
   ],
   "source": [
    "from datetime import date\n",
    "\n",
    "d0 = date(2017, 3, 1)\n",
    "d1 = date(2018, 12,31)\n",
    "delta = d1 - d0\n",
    "days_look = delta.days + 1\n",
    "print(days_look)\n",
    "\n",
    "d0 = date(2019, 1, 1)\n",
    "d1 = date(2019, 3, 7)\n",
    "delta = d1 - d0\n",
    "days_from_train = delta.days + 1\n",
    "print(days_from_train)\n",
    "\n",
    "d0 = date(2019, 3, 8)\n",
    "d1 = date(2019, 3, 13)\n",
    "delta = d1 - d0\n",
    "days_from_end = delta.days + 1\n",
    "print(days_from_end)"
   ]
  },
  {
   "cell_type": "code",
   "execution_count": 6,
   "metadata": {},
   "outputs": [
    {
     "name": "stdout",
     "output_type": "stream",
     "text": [
      "611 66\n"
     ]
    }
   ],
   "source": [
    "\n",
    "df_train= Daily_Price[len(Daily_Price)-days_look-days_from_end:len(Daily_Price)-days_from_train]\n",
    "df_test= Daily_Price[len(Daily_Price)-days_from_train:]\n",
    "\n",
    "print(len(df_train), len(df_test))"
   ]
  },
  {
   "cell_type": "code",
   "execution_count": 24,
   "metadata": {},
   "outputs": [],
   "source": [
    "\n",
    "\n",
    "working_data = [df_train, df_test]\n",
    "working_data = pd.concat(working_data)\n",
    "\n",
    "working_data = working_data.reset_index()\n",
    "working_data['date'] = pd.to_datetime(working_data['date'])\n",
    "working_data = working_data.set_index('date')"
   ]
  },
  {
   "cell_type": "code",
   "execution_count": null,
   "metadata": {},
   "outputs": [],
   "source": []
  },
  {
   "cell_type": "code",
   "execution_count": null,
   "metadata": {},
   "outputs": [],
   "source": []
  },
  {
   "cell_type": "code",
   "execution_count": 25,
   "metadata": {},
   "outputs": [],
   "source": [
    "\n",
    "df_train = working_data[:-60]\n",
    "df_test = working_data[-60:]"
   ]
  },
  {
   "cell_type": "code",
   "execution_count": 26,
   "metadata": {},
   "outputs": [],
   "source": [
    "def create_lookback(dataset, look_back=1):\n",
    "    X, Y = [], []\n",
    "    for i in range(len(dataset) - look_back):\n",
    "        a = dataset[i:(i + look_back), 0]\n",
    "        X.append(a)\n",
    "        Y.append(dataset[i + look_back, 0])\n",
    "    return np.array(X), np.array(Y)"
   ]
  },
  {
   "cell_type": "code",
   "execution_count": 10,
   "metadata": {},
   "outputs": [],
   "source": [
    "from sklearn.preprocessing import MinMaxScaler\n",
    "\n",
    "training_set = df_train.values\n",
    "training_set = np.reshape(training_set, (len(training_set), 1))\n",
    "test_set = df_test.values\n",
    "test_set = np.reshape(test_set, (len(test_set), 1))\n",
    "\n",
    "#scale datasets\n",
    "scaler = MinMaxScaler()\n",
    "training_set = scaler.fit_transform(training_set)\n",
    "test_set = scaler.transform(test_set)\n",
    "\n",
    "# create datasets which are suitable for time series forecasting\n",
    "look_back = 1\n",
    "X_train, Y_train = create_lookback(training_set, look_back)\n",
    "X_test, Y_test = create_lookback(test_set, look_back)\n",
    "\n",
    " # reshape datasets so that they will be ok for the requirements of the LSTM model in Keras\n",
    "X_train = np.reshape(X_train, (len(X_train), 1, X_train.shape[1]))\n",
    "X_test = np.reshape(X_test, (len(X_test), 1, X_test.shape[1]))"
   ]
  },
  {
   "cell_type": "code",
   "execution_count": 11,
   "metadata": {},
   "outputs": [
    {
     "name": "stdout",
     "output_type": "stream",
     "text": [
      "WARNING:tensorflow:From C:\\Users\\VIK\\Anaconda3\\lib\\site-packages\\tensorflow\\python\\framework\\op_def_library.py:263: colocate_with (from tensorflow.python.framework.ops) is deprecated and will be removed in a future version.\n",
      "Instructions for updating:\n",
      "Colocations handled automatically by placer.\n",
      "WARNING:tensorflow:From C:\\Users\\VIK\\Anaconda3\\lib\\site-packages\\tensorflow\\python\\ops\\math_ops.py:3066: to_int32 (from tensorflow.python.ops.math_ops) is deprecated and will be removed in a future version.\n",
      "Instructions for updating:\n",
      "Use tf.cast instead.\n",
      "Train on 616 samples, validate on 59 samples\n",
      "Epoch 1/100\n",
      "616/616 [==============================] - 2s 4ms/step - loss: 0.0432 - val_loss: 0.0245\n",
      "Epoch 2/100\n",
      "616/616 [==============================] - 1s 2ms/step - loss: 0.0354 - val_loss: 0.0213\n",
      "Epoch 3/100\n",
      "616/616 [==============================] - 1s 2ms/step - loss: 0.0205 - val_loss: 0.0075\n",
      "Epoch 4/100\n",
      "616/616 [==============================] - 2s 3ms/step - loss: 0.0087 - val_loss: 4.3962e-04\n",
      "Epoch 5/100\n",
      "616/616 [==============================] - 1s 2ms/step - loss: 0.0017 - val_loss: 3.0973e-05\n",
      "Epoch 6/100\n",
      "616/616 [==============================] - 1s 2ms/step - loss: 5.2803e-04 - val_loss: 4.5479e-05\n",
      "Epoch 7/100\n",
      "616/616 [==============================] - 1s 2ms/step - loss: 4.7931e-04 - val_loss: 3.3397e-05\n",
      "Epoch 8/100\n",
      "616/616 [==============================] - 1s 2ms/step - loss: 4.7649e-04 - val_loss: 3.3861e-05\n",
      "Epoch 9/100\n",
      "616/616 [==============================] - 1s 2ms/step - loss: 4.7731e-04 - val_loss: 2.6698e-05\n",
      "Epoch 10/100\n",
      "616/616 [==============================] - 1s 2ms/step - loss: 4.7924e-04 - val_loss: 2.2436e-05\n",
      "Epoch 11/100\n",
      "616/616 [==============================] - 1s 2ms/step - loss: 4.8569e-04 - val_loss: 1.8690e-05\n",
      "Epoch 12/100\n",
      "616/616 [==============================] - 1s 2ms/step - loss: 4.9470e-04 - val_loss: 1.6930e-05\n",
      "Epoch 13/100\n",
      "616/616 [==============================] - 1s 2ms/step - loss: 5.0639e-04 - val_loss: 1.6290e-05\n",
      "Epoch 14/100\n",
      "616/616 [==============================] - 1s 2ms/step - loss: 5.1823e-04 - val_loss: 1.6835e-05\n",
      "Epoch 15/100\n",
      "616/616 [==============================] - 1s 2ms/step - loss: 5.2942e-04 - val_loss: 1.8338e-05\n",
      "Epoch 16/100\n",
      "616/616 [==============================] - 1s 2ms/step - loss: 5.3889e-04 - val_loss: 2.0819e-05\n",
      "Epoch 17/100\n",
      "616/616 [==============================] - 1s 2ms/step - loss: 5.4680e-04 - val_loss: 2.4203e-05\n",
      "Epoch 18/100\n",
      "616/616 [==============================] - 1s 2ms/step - loss: 5.5350e-04 - val_loss: 2.8411e-05\n",
      "Epoch 19/100\n",
      "616/616 [==============================] - 1s 2ms/step - loss: 5.5963e-04 - val_loss: 3.3336e-05\n",
      "Epoch 20/100\n",
      "616/616 [==============================] - 1s 2ms/step - loss: 5.6572e-04 - val_loss: 3.8886e-05\n",
      "Epoch 21/100\n",
      "616/616 [==============================] - 1s 2ms/step - loss: 5.7210e-04 - val_loss: 4.4990e-05\n",
      "Epoch 22/100\n",
      "616/616 [==============================] - 1s 2ms/step - loss: 5.7896e-04 - val_loss: 5.1592e-05\n",
      "Epoch 23/100\n",
      "616/616 [==============================] - 1s 2ms/step - loss: 5.8637e-04 - val_loss: 5.8642e-05\n",
      "Epoch 24/100\n",
      "616/616 [==============================] - 1s 2ms/step - loss: 5.9432e-04 - val_loss: 6.6088e-05\n",
      "Epoch 25/100\n",
      "616/616 [==============================] - 1s 2ms/step - loss: 6.0281e-04 - val_loss: 7.3873e-05\n",
      "Epoch 00025: early stopping\n"
     ]
    }
   ],
   "source": [
    "model = Sequential()\n",
    "model.add(LSTM(256, return_sequences=True, input_shape=(X_train.shape[1], X_train.shape[2])))\n",
    "model.add(LSTM(256))\n",
    "model.add(Dense(1))\n",
    "\n",
    "# compile and fit the model\n",
    "model.compile(loss='mean_squared_error', optimizer='adam')\n",
    "history = model.fit(X_train, Y_train, epochs=100, batch_size=16, shuffle=False,\n",
    "                    validation_data=(X_test, Y_test),\n",
    "                    callbacks = [EarlyStopping(monitor='val_loss', min_delta=5e-5, patience=20, verbose=1)])\n"
   ]
  },
  {
   "cell_type": "code",
   "execution_count": 28,
   "metadata": {},
   "outputs": [
    {
     "data": {
      "application/vnd.plotly.v1+json": {
       "config": {
        "linkText": "Export to plot.ly",
        "plotlyServerURL": "https://plot.ly",
        "showLink": false
       },
       "data": [
        {
         "line": {
          "color": "rgb(66, 244, 155)",
          "dash": "dash",
          "width": 2
         },
         "mode": "lines",
         "name": "Train loss",
         "type": "scatter",
         "uid": "8deebcc3-6b89-4770-829f-85e749be81ce",
         "x": [
          0,
          1,
          2,
          3,
          4,
          5,
          6,
          7,
          8,
          9,
          10,
          11,
          12,
          13,
          14,
          15,
          16,
          17,
          18,
          19,
          20,
          21,
          22,
          23,
          24
         ],
         "y": [
          0.04323425179335301,
          0.03539975638109767,
          0.020490983614090272,
          0.008730108546759848,
          0.0016932025946398545,
          0.0005280281108883043,
          0.0004793123721769503,
          0.0004764946271197087,
          0.0004773075033409004,
          0.0004792424295834729,
          0.0004856946483320011,
          0.0004947012383528598,
          0.0005063893154978619,
          0.0005182308994264602,
          0.0005294155363861302,
          0.0005388935096089444,
          0.0005467970035429712,
          0.0005534994599255189,
          0.0005596318223034394,
          0.0005657152689852776,
          0.0005721007801657361,
          0.0005789636718388949,
          0.0005863668386107794,
          0.000594318800344277,
          0.0006028071379246699
         ]
        },
        {
         "line": {
          "color": "rgb(244, 146, 65)",
          "width": 2
         },
         "mode": "lines",
         "name": "Test loss",
         "type": "scatter",
         "uid": "25ce888c-4654-45d4-b3ad-d1fa5f8a7e7a",
         "x": [
          0,
          1,
          2,
          3,
          4,
          5,
          6,
          7,
          8,
          9,
          10,
          11,
          12,
          13,
          14,
          15,
          16,
          17,
          18,
          19,
          20,
          21,
          22,
          23,
          24
         ],
         "y": [
          0.024462813574631335,
          0.021275693014011544,
          0.007498834353192883,
          0.00043961956901712566,
          3.0973307545182405e-05,
          4.5479488323770176e-05,
          3.339704254373782e-05,
          3.38605297995747e-05,
          2.6698228562747966e-05,
          2.243607288341914e-05,
          1.869042010847637e-05,
          1.6930490855267665e-05,
          1.6290484089009717e-05,
          1.683468355036832e-05,
          1.8337720267497342e-05,
          2.0818851549786088e-05,
          2.4203364758296493e-05,
          2.84114582227322e-05,
          3.333626872040055e-05,
          3.888603036318535e-05,
          4.498988540544198e-05,
          5.1592454714779505e-05,
          5.8642419852253237e-05,
          6.608821755527693e-05,
          7.387349744360909e-05
         ]
        }
       ],
       "layout": {
        "title": {
         "text": "Train and Test Loss during training"
        },
        "xaxis": {
         "title": {
          "text": "Epoch number"
         }
        },
        "yaxis": {
         "title": {
          "text": "Loss"
         }
        }
       }
      },
      "text/html": [
       "<div id=\"29646152-8b9c-4692-a536-a3c8a98c4b9d\" style=\"height: 525px; width: 100%;\" class=\"plotly-graph-div\"></div><script type=\"text/javascript\">require([\"plotly\"], function(Plotly) { window.PLOTLYENV=window.PLOTLYENV || {};window.PLOTLYENV.BASE_URL=\"https://plot.ly\";\n",
       "if (document.getElementById(\"29646152-8b9c-4692-a536-a3c8a98c4b9d\")) {\n",
       "    Plotly.newPlot(\"29646152-8b9c-4692-a536-a3c8a98c4b9d\", [{\"line\": {\"color\": \"rgb(66, 244, 155)\", \"dash\": \"dash\", \"width\": 2}, \"name\": \"Train loss\", \"x\": [0, 1, 2, 3, 4, 5, 6, 7, 8, 9, 10, 11, 12, 13, 14, 15, 16, 17, 18, 19, 20, 21, 22, 23, 24], \"uid\": \"820d4e3f-364a-4fa8-b550-e322ff3ac4fa\", \"y\": [0.04323425179335301, 0.03539975638109767, 0.020490983614090272, 0.008730108546759848, 0.0016932025946398545, 0.0005280281108883043, 0.0004793123721769503, 0.0004764946271197087, 0.0004773075033409004, 0.0004792424295834729, 0.0004856946483320011, 0.0004947012383528598, 0.0005063893154978619, 0.0005182308994264602, 0.0005294155363861302, 0.0005388935096089444, 0.0005467970035429712, 0.0005534994599255189, 0.0005596318223034394, 0.0005657152689852776, 0.0005721007801657361, 0.0005789636718388949, 0.0005863668386107794, 0.000594318800344277, 0.0006028071379246699], \"type\": \"scatter\", \"mode\": \"lines\"}, {\"line\": {\"color\": \"rgb(244, 146, 65)\", \"width\": 2}, \"name\": \"Test loss\", \"x\": [0, 1, 2, 3, 4, 5, 6, 7, 8, 9, 10, 11, 12, 13, 14, 15, 16, 17, 18, 19, 20, 21, 22, 23, 24], \"uid\": \"84bb8c7b-47e3-483b-badb-67882baad006\", \"y\": [0.024462813574631335, 0.021275693014011544, 0.007498834353192883, 0.00043961956901712566, 3.0973307545182405e-05, 4.5479488323770176e-05, 3.339704254373782e-05, 3.38605297995747e-05, 2.6698228562747966e-05, 2.243607288341914e-05, 1.869042010847637e-05, 1.6930490855267665e-05, 1.6290484089009717e-05, 1.683468355036832e-05, 1.8337720267497342e-05, 2.0818851549786088e-05, 2.4203364758296493e-05, 2.84114582227322e-05, 3.333626872040055e-05, 3.888603036318535e-05, 4.498988540544198e-05, 5.1592454714779505e-05, 5.8642419852253237e-05, 6.608821755527693e-05, 7.387349744360909e-05], \"type\": \"scatter\", \"mode\": \"lines\"}], {\"title\": {\"text\": \"Train and Test Loss during training\"}, \"xaxis\": {\"title\": {\"text\": \"Epoch number\"}}, \"yaxis\": {\"title\": {\"text\": \"Loss\"}}}, {\"linkText\": \"Export to plot.ly\", \"plotlyServerURL\": \"https://plot.ly\", \"showLink\": false}); \n",
       "}\n",
       "});</script><script type=\"text/javascript\">window.addEventListener(\"resize\", function(){if (document.getElementById(\"29646152-8b9c-4692-a536-a3c8a98c4b9d\")) {window._Plotly.Plots.resize(document.getElementById(\"29646152-8b9c-4692-a536-a3c8a98c4b9d\"));};})</script>"
      ],
      "text/vnd.plotly.v1+html": [
       "<div id=\"29646152-8b9c-4692-a536-a3c8a98c4b9d\" style=\"height: 525px; width: 100%;\" class=\"plotly-graph-div\"></div><script type=\"text/javascript\">require([\"plotly\"], function(Plotly) { window.PLOTLYENV=window.PLOTLYENV || {};window.PLOTLYENV.BASE_URL=\"https://plot.ly\";\n",
       "if (document.getElementById(\"29646152-8b9c-4692-a536-a3c8a98c4b9d\")) {\n",
       "    Plotly.newPlot(\"29646152-8b9c-4692-a536-a3c8a98c4b9d\", [{\"line\": {\"color\": \"rgb(66, 244, 155)\", \"dash\": \"dash\", \"width\": 2}, \"name\": \"Train loss\", \"x\": [0, 1, 2, 3, 4, 5, 6, 7, 8, 9, 10, 11, 12, 13, 14, 15, 16, 17, 18, 19, 20, 21, 22, 23, 24], \"uid\": \"820d4e3f-364a-4fa8-b550-e322ff3ac4fa\", \"y\": [0.04323425179335301, 0.03539975638109767, 0.020490983614090272, 0.008730108546759848, 0.0016932025946398545, 0.0005280281108883043, 0.0004793123721769503, 0.0004764946271197087, 0.0004773075033409004, 0.0004792424295834729, 0.0004856946483320011, 0.0004947012383528598, 0.0005063893154978619, 0.0005182308994264602, 0.0005294155363861302, 0.0005388935096089444, 0.0005467970035429712, 0.0005534994599255189, 0.0005596318223034394, 0.0005657152689852776, 0.0005721007801657361, 0.0005789636718388949, 0.0005863668386107794, 0.000594318800344277, 0.0006028071379246699], \"type\": \"scatter\", \"mode\": \"lines\"}, {\"line\": {\"color\": \"rgb(244, 146, 65)\", \"width\": 2}, \"name\": \"Test loss\", \"x\": [0, 1, 2, 3, 4, 5, 6, 7, 8, 9, 10, 11, 12, 13, 14, 15, 16, 17, 18, 19, 20, 21, 22, 23, 24], \"uid\": \"84bb8c7b-47e3-483b-badb-67882baad006\", \"y\": [0.024462813574631335, 0.021275693014011544, 0.007498834353192883, 0.00043961956901712566, 3.0973307545182405e-05, 4.5479488323770176e-05, 3.339704254373782e-05, 3.38605297995747e-05, 2.6698228562747966e-05, 2.243607288341914e-05, 1.869042010847637e-05, 1.6930490855267665e-05, 1.6290484089009717e-05, 1.683468355036832e-05, 1.8337720267497342e-05, 2.0818851549786088e-05, 2.4203364758296493e-05, 2.84114582227322e-05, 3.333626872040055e-05, 3.888603036318535e-05, 4.498988540544198e-05, 5.1592454714779505e-05, 5.8642419852253237e-05, 6.608821755527693e-05, 7.387349744360909e-05], \"type\": \"scatter\", \"mode\": \"lines\"}], {\"title\": {\"text\": \"Train and Test Loss during training\"}, \"xaxis\": {\"title\": {\"text\": \"Epoch number\"}}, \"yaxis\": {\"title\": {\"text\": \"Loss\"}}}, {\"linkText\": \"Export to plot.ly\", \"plotlyServerURL\": \"https://plot.ly\", \"showLink\": false}); \n",
       "}\n",
       "});</script><script type=\"text/javascript\">window.addEventListener(\"resize\", function(){if (document.getElementById(\"29646152-8b9c-4692-a536-a3c8a98c4b9d\")) {window._Plotly.Plots.resize(document.getElementById(\"29646152-8b9c-4692-a536-a3c8a98c4b9d\"));};})</script>"
      ]
     },
     "metadata": {},
     "output_type": "display_data"
    }
   ],
   "source": [
    "trace1 = go.Scatter(\n",
    "    x = np.arange(0, len(history.history['loss']), 1),\n",
    "    y = history.history['loss'],\n",
    "    mode = 'lines',\n",
    "    name = 'Train loss',\n",
    "    line = dict(color=('rgb(66, 244, 155)'), width=2, dash='dash')\n",
    ")\n",
    "trace2 = go.Scatter(\n",
    "    x = np.arange(0, len(history.history['val_loss']), 1),\n",
    "    y = history.history['val_loss'],\n",
    "    mode = 'lines',\n",
    "    name = 'Test loss',\n",
    "    line = dict(color=('rgb(244, 146, 65)'), width=2)\n",
    ")\n",
    "\n",
    "data = [trace1, trace2]\n",
    "layout = dict(title = 'Train and Test Loss during training',\n",
    "              xaxis = dict(title = 'Epoch number'), yaxis = dict(title = 'Loss'))\n",
    "fig = dict(data=data, layout=layout)\n",
    "py.iplot(fig, filename='training_process')"
   ]
  },
  {
   "cell_type": "code",
   "execution_count": 29,
   "metadata": {},
   "outputs": [],
   "source": [
    "# add one additional data point to align shapes of the predictions and true labels\n",
    "X_test = np.append(X_test, scaler.transform([[working_data.iloc[-1][0]]]))\n",
    "X_test = np.reshape(X_test, (len(X_test), 1, 1))\n",
    "\n",
    "prediction = model.predict(X_test)\n",
    "prediction_inverse = scaler.inverse_transform(prediction.reshape(-1, 1))\n",
    "Y_test_inverse = scaler.inverse_transform(Y_test.reshape(-1, 1))\n",
    "prediction2_inverse = np.array(prediction_inverse[:,0][1:])\n",
    "Y_test2_inverse = np.array(Y_test_inverse[:,0])"
   ]
  },
  {
   "cell_type": "code",
   "execution_count": 14,
   "metadata": {},
   "outputs": [
    {
     "data": {
      "application/vnd.plotly.v1+json": {
       "config": {
        "linkText": "Export to plot.ly",
        "plotlyServerURL": "https://plot.ly",
        "showLink": false
       },
       "data": [
        {
         "line": {
          "color": "rgb(244, 146, 65)",
          "width": 2
         },
         "mode": "lines",
         "name": "Predicted labels",
         "type": "scatter",
         "uid": "4c804832-f9ff-463a-9a5d-2780a956ff2b",
         "x": [
          0,
          1,
          2,
          3,
          4,
          5,
          6,
          7,
          8,
          9,
          10,
          11,
          12,
          13,
          14,
          15,
          16,
          17,
          18,
          19,
          20,
          21,
          22,
          23,
          24,
          25,
          26,
          27,
          28,
          29,
          30,
          31,
          32,
          33,
          34,
          35,
          36,
          37,
          38,
          39,
          40,
          41,
          42,
          43,
          44,
          45,
          46,
          47,
          48,
          49,
          50,
          51,
          52,
          53,
          54,
          55,
          56,
          57,
          58
         ],
         "y": [
          3733.227783203125,
          3788.537109375,
          3754.369384765625,
          3753.91455078125,
          3765.27490234375,
          3815.58935546875,
          3757.732421875,
          3693.685791015625,
          3707.9150390625,
          3723.84814453125,
          3709.949951171875,
          3712.783935546875,
          3725.523681640625,
          3702.470458984375,
          3605.905029296875,
          3570.637939453125,
          3592.520263671875,
          3594.126953125,
          3586.555908203125,
          3600.421630859375,
          3594.626220703125,
          3584.562744140625,
          3589.22216796875,
          3546.468017578125,
          3541.812255859375,
          3618.005859375,
          3764.6083984375,
          3758.576416015625,
          3746.93310546875,
          3731.388427734375,
          3735.3427734375,
          3723.575439453125,
          3724.729736328125,
          3740.13134765625,
          3738.242919921875,
          3891.45263671875,
          4021.537841796875,
          4030.684326171875,
          4027.036865234375,
          4043.78662109375,
          4093.1396484375,
          4101.68115234375,
          3924.400390625,
          3930.90966796875,
          3926.763427734375,
          3940.22900390625,
          3942.91845703125,
          3935.714111328125,
          3932.25537109375,
          3863.56298828125,
          3900.2041015625,
          3965.9091796875,
          3986.2109375,
          3995.69091796875,
          4012.007568359375,
          4014.670166015625,
          3989.233642578125,
          3973.591796875,
          3986.7939453125
         ]
        },
        {
         "line": {
          "color": "rgb(66, 244, 155)",
          "width": 2
         },
         "mode": "lines",
         "name": "True labels",
         "type": "scatter",
         "uid": "d33d7c76-b7e0-48a0-91a0-97cf332afd05",
         "x": [
          0,
          1,
          2,
          3,
          4,
          5,
          6,
          7,
          8,
          9,
          10,
          11,
          12,
          13,
          14,
          15,
          16,
          17,
          18,
          19,
          20,
          21,
          22,
          23,
          24,
          25,
          26,
          27,
          28,
          29,
          30,
          31,
          32,
          33,
          34,
          35,
          36,
          37,
          38,
          39,
          40,
          41,
          42,
          43,
          44,
          45,
          46,
          47,
          48,
          49,
          50,
          51,
          52,
          53,
          54,
          55,
          56,
          57,
          58
         ],
         "y": [
          3579.8480079334004,
          3641.4472294848656,
          3603.3979339981242,
          3602.891395534795,
          3615.543329468826,
          3671.5630774817314,
          3607.143437418059,
          3535.7884722170834,
          3551.645193531382,
          3569.39869311952,
          3553.912903448606,
          3557.0705296528463,
          3571.265297842573,
          3545.5780639910367,
          3437.9149573794475,
          3398.568493216251,
          3422.9833781603456,
          3424.7758441186775,
          3416.3293920248584,
          3431.798178824731,
          3425.3328929563245,
          3414.105570185,
          3419.3043624565985,
          3371.5947012740958,
          3366.397902369513,
          3451.412112471177,
          3614.801568033472,
          3608.0836060025044,
          3595.1153218390996,
          3577.7988786427745,
          3582.204119727642,
          3569.0942615891076,
          3570.380412320488,
          3587.538517729728,
          3585.4347878497915,
          3755.974532467019,
          3900.567898165421,
          3910.7275996693747,
          3906.6761754096583,
          3925.2789592991758,
          3980.0753528316054,
          3989.555889381808,
          3792.614466032643,
          3799.852342575977,
          3795.24214638423,
          3810.2133885267435,
          3813.203185525554,
          3805.1935231559814,
          3801.3484394438137,
          3724.950099434725,
          3765.7079156928494,
          3838.758557874717,
          3861.3198086329885,
          3871.8532872811866,
          3889.9811130347175,
          3892.939233004371,
          3864.6784762491648,
          3847.296517624307,
          3861.9674638000006
         ]
        }
       ],
       "layout": {
        "title": {
         "text": "Comparison of true prices (on the test dataset) with prices our model predicted"
        },
        "xaxis": {
         "title": {
          "text": "Day number"
         }
        },
        "yaxis": {
         "title": {
          "text": "Price, USD"
         }
        }
       }
      },
      "text/html": [
       "<div id=\"9a421705-d676-44e9-bb75-7415f1a012d2\" style=\"height: 525px; width: 100%;\" class=\"plotly-graph-div\"></div><script type=\"text/javascript\">require([\"plotly\"], function(Plotly) { window.PLOTLYENV=window.PLOTLYENV || {};window.PLOTLYENV.BASE_URL=\"https://plot.ly\";\n",
       "if (document.getElementById(\"9a421705-d676-44e9-bb75-7415f1a012d2\")) {\n",
       "    Plotly.newPlot(\"9a421705-d676-44e9-bb75-7415f1a012d2\", [{\"line\": {\"color\": \"rgb(244, 146, 65)\", \"width\": 2}, \"name\": \"Predicted labels\", \"x\": [0, 1, 2, 3, 4, 5, 6, 7, 8, 9, 10, 11, 12, 13, 14, 15, 16, 17, 18, 19, 20, 21, 22, 23, 24, 25, 26, 27, 28, 29, 30, 31, 32, 33, 34, 35, 36, 37, 38, 39, 40, 41, 42, 43, 44, 45, 46, 47, 48, 49, 50, 51, 52, 53, 54, 55, 56, 57, 58], \"uid\": \"46aa2be5-cf67-4289-b8c5-1a985e1b80b8\", \"y\": [3733.227783203125, 3788.537109375, 3754.369384765625, 3753.91455078125, 3765.27490234375, 3815.58935546875, 3757.732421875, 3693.685791015625, 3707.9150390625, 3723.84814453125, 3709.949951171875, 3712.783935546875, 3725.523681640625, 3702.470458984375, 3605.905029296875, 3570.637939453125, 3592.520263671875, 3594.126953125, 3586.555908203125, 3600.421630859375, 3594.626220703125, 3584.562744140625, 3589.22216796875, 3546.468017578125, 3541.812255859375, 3618.005859375, 3764.6083984375, 3758.576416015625, 3746.93310546875, 3731.388427734375, 3735.3427734375, 3723.575439453125, 3724.729736328125, 3740.13134765625, 3738.242919921875, 3891.45263671875, 4021.537841796875, 4030.684326171875, 4027.036865234375, 4043.78662109375, 4093.1396484375, 4101.68115234375, 3924.400390625, 3930.90966796875, 3926.763427734375, 3940.22900390625, 3942.91845703125, 3935.714111328125, 3932.25537109375, 3863.56298828125, 3900.2041015625, 3965.9091796875, 3986.2109375, 3995.69091796875, 4012.007568359375, 4014.670166015625, 3989.233642578125, 3973.591796875, 3986.7939453125], \"type\": \"scatter\", \"mode\": \"lines\"}, {\"line\": {\"color\": \"rgb(66, 244, 155)\", \"width\": 2}, \"name\": \"True labels\", \"x\": [0, 1, 2, 3, 4, 5, 6, 7, 8, 9, 10, 11, 12, 13, 14, 15, 16, 17, 18, 19, 20, 21, 22, 23, 24, 25, 26, 27, 28, 29, 30, 31, 32, 33, 34, 35, 36, 37, 38, 39, 40, 41, 42, 43, 44, 45, 46, 47, 48, 49, 50, 51, 52, 53, 54, 55, 56, 57, 58], \"uid\": \"167cf83a-918b-406d-b687-be16889ef919\", \"y\": [3579.8480079334004, 3641.4472294848656, 3603.3979339981242, 3602.891395534795, 3615.543329468826, 3671.5630774817314, 3607.143437418059, 3535.7884722170834, 3551.645193531382, 3569.39869311952, 3553.912903448606, 3557.0705296528463, 3571.265297842573, 3545.5780639910367, 3437.9149573794475, 3398.568493216251, 3422.9833781603456, 3424.7758441186775, 3416.3293920248584, 3431.798178824731, 3425.3328929563245, 3414.105570185, 3419.3043624565985, 3371.5947012740958, 3366.397902369513, 3451.412112471177, 3614.801568033472, 3608.0836060025044, 3595.1153218390996, 3577.7988786427745, 3582.204119727642, 3569.0942615891076, 3570.380412320488, 3587.538517729728, 3585.4347878497915, 3755.974532467019, 3900.567898165421, 3910.7275996693747, 3906.6761754096583, 3925.2789592991758, 3980.0753528316054, 3989.555889381808, 3792.614466032643, 3799.852342575977, 3795.24214638423, 3810.2133885267435, 3813.203185525554, 3805.1935231559814, 3801.3484394438137, 3724.950099434725, 3765.7079156928494, 3838.758557874717, 3861.3198086329885, 3871.8532872811866, 3889.9811130347175, 3892.939233004371, 3864.6784762491648, 3847.296517624307, 3861.9674638000006], \"type\": \"scatter\", \"mode\": \"lines\"}], {\"title\": {\"text\": \"Comparison of true prices (on the test dataset) with prices our model predicted\"}, \"xaxis\": {\"title\": {\"text\": \"Day number\"}}, \"yaxis\": {\"title\": {\"text\": \"Price, USD\"}}}, {\"linkText\": \"Export to plot.ly\", \"plotlyServerURL\": \"https://plot.ly\", \"showLink\": false}); \n",
       "}\n",
       "});</script><script type=\"text/javascript\">window.addEventListener(\"resize\", function(){if (document.getElementById(\"9a421705-d676-44e9-bb75-7415f1a012d2\")) {window._Plotly.Plots.resize(document.getElementById(\"9a421705-d676-44e9-bb75-7415f1a012d2\"));};})</script>"
      ],
      "text/vnd.plotly.v1+html": [
       "<div id=\"9a421705-d676-44e9-bb75-7415f1a012d2\" style=\"height: 525px; width: 100%;\" class=\"plotly-graph-div\"></div><script type=\"text/javascript\">require([\"plotly\"], function(Plotly) { window.PLOTLYENV=window.PLOTLYENV || {};window.PLOTLYENV.BASE_URL=\"https://plot.ly\";\n",
       "if (document.getElementById(\"9a421705-d676-44e9-bb75-7415f1a012d2\")) {\n",
       "    Plotly.newPlot(\"9a421705-d676-44e9-bb75-7415f1a012d2\", [{\"line\": {\"color\": \"rgb(244, 146, 65)\", \"width\": 2}, \"name\": \"Predicted labels\", \"x\": [0, 1, 2, 3, 4, 5, 6, 7, 8, 9, 10, 11, 12, 13, 14, 15, 16, 17, 18, 19, 20, 21, 22, 23, 24, 25, 26, 27, 28, 29, 30, 31, 32, 33, 34, 35, 36, 37, 38, 39, 40, 41, 42, 43, 44, 45, 46, 47, 48, 49, 50, 51, 52, 53, 54, 55, 56, 57, 58], \"uid\": \"46aa2be5-cf67-4289-b8c5-1a985e1b80b8\", \"y\": [3733.227783203125, 3788.537109375, 3754.369384765625, 3753.91455078125, 3765.27490234375, 3815.58935546875, 3757.732421875, 3693.685791015625, 3707.9150390625, 3723.84814453125, 3709.949951171875, 3712.783935546875, 3725.523681640625, 3702.470458984375, 3605.905029296875, 3570.637939453125, 3592.520263671875, 3594.126953125, 3586.555908203125, 3600.421630859375, 3594.626220703125, 3584.562744140625, 3589.22216796875, 3546.468017578125, 3541.812255859375, 3618.005859375, 3764.6083984375, 3758.576416015625, 3746.93310546875, 3731.388427734375, 3735.3427734375, 3723.575439453125, 3724.729736328125, 3740.13134765625, 3738.242919921875, 3891.45263671875, 4021.537841796875, 4030.684326171875, 4027.036865234375, 4043.78662109375, 4093.1396484375, 4101.68115234375, 3924.400390625, 3930.90966796875, 3926.763427734375, 3940.22900390625, 3942.91845703125, 3935.714111328125, 3932.25537109375, 3863.56298828125, 3900.2041015625, 3965.9091796875, 3986.2109375, 3995.69091796875, 4012.007568359375, 4014.670166015625, 3989.233642578125, 3973.591796875, 3986.7939453125], \"type\": \"scatter\", \"mode\": \"lines\"}, {\"line\": {\"color\": \"rgb(66, 244, 155)\", \"width\": 2}, \"name\": \"True labels\", \"x\": [0, 1, 2, 3, 4, 5, 6, 7, 8, 9, 10, 11, 12, 13, 14, 15, 16, 17, 18, 19, 20, 21, 22, 23, 24, 25, 26, 27, 28, 29, 30, 31, 32, 33, 34, 35, 36, 37, 38, 39, 40, 41, 42, 43, 44, 45, 46, 47, 48, 49, 50, 51, 52, 53, 54, 55, 56, 57, 58], \"uid\": \"167cf83a-918b-406d-b687-be16889ef919\", \"y\": [3579.8480079334004, 3641.4472294848656, 3603.3979339981242, 3602.891395534795, 3615.543329468826, 3671.5630774817314, 3607.143437418059, 3535.7884722170834, 3551.645193531382, 3569.39869311952, 3553.912903448606, 3557.0705296528463, 3571.265297842573, 3545.5780639910367, 3437.9149573794475, 3398.568493216251, 3422.9833781603456, 3424.7758441186775, 3416.3293920248584, 3431.798178824731, 3425.3328929563245, 3414.105570185, 3419.3043624565985, 3371.5947012740958, 3366.397902369513, 3451.412112471177, 3614.801568033472, 3608.0836060025044, 3595.1153218390996, 3577.7988786427745, 3582.204119727642, 3569.0942615891076, 3570.380412320488, 3587.538517729728, 3585.4347878497915, 3755.974532467019, 3900.567898165421, 3910.7275996693747, 3906.6761754096583, 3925.2789592991758, 3980.0753528316054, 3989.555889381808, 3792.614466032643, 3799.852342575977, 3795.24214638423, 3810.2133885267435, 3813.203185525554, 3805.1935231559814, 3801.3484394438137, 3724.950099434725, 3765.7079156928494, 3838.758557874717, 3861.3198086329885, 3871.8532872811866, 3889.9811130347175, 3892.939233004371, 3864.6784762491648, 3847.296517624307, 3861.9674638000006], \"type\": \"scatter\", \"mode\": \"lines\"}], {\"title\": {\"text\": \"Comparison of true prices (on the test dataset) with prices our model predicted\"}, \"xaxis\": {\"title\": {\"text\": \"Day number\"}}, \"yaxis\": {\"title\": {\"text\": \"Price, USD\"}}}, {\"linkText\": \"Export to plot.ly\", \"plotlyServerURL\": \"https://plot.ly\", \"showLink\": false}); \n",
       "}\n",
       "});</script><script type=\"text/javascript\">window.addEventListener(\"resize\", function(){if (document.getElementById(\"9a421705-d676-44e9-bb75-7415f1a012d2\")) {window._Plotly.Plots.resize(document.getElementById(\"9a421705-d676-44e9-bb75-7415f1a012d2\"));};})</script>"
      ]
     },
     "metadata": {},
     "output_type": "display_data"
    }
   ],
   "source": [
    "trace1 = go.Scatter(\n",
    "    x = np.arange(0, len(prediction2_inverse), 1),\n",
    "    y = prediction2_inverse,\n",
    "    mode = 'lines',\n",
    "    name = 'Predicted labels',\n",
    "    line = dict(color=('rgb(244, 146, 65)'), width=2)\n",
    ")\n",
    "trace2 = go.Scatter(\n",
    "    x = np.arange(0, len(Y_test2_inverse), 1),\n",
    "    y = Y_test2_inverse,\n",
    "    mode = 'lines',\n",
    "    name = 'True labels',\n",
    "    line = dict(color=('rgb(66, 244, 155)'), width=2)\n",
    ")\n",
    "\n",
    "data = [trace1, trace2]\n",
    "layout = dict(title = 'Comparison of true prices (on the test dataset) with prices our model predicted',\n",
    "             xaxis = dict(title = 'Day number'), yaxis = dict(title = 'Price, USD'))\n",
    "fig = dict(data=data, layout=layout)\n",
    "py.iplot(fig, filename='results_demonstrating0')"
   ]
  },
  {
   "cell_type": "code",
   "execution_count": 15,
   "metadata": {},
   "outputs": [
    {
     "name": "stdout",
     "output_type": "stream",
     "text": [
      "Test RMSE: 146.533\n"
     ]
    }
   ],
   "source": [
    "RMSE = sqrt(mean_squared_error(Y_test2_inverse, prediction2_inverse))\n",
    "print('Test RMSE: %.3f' % RMSE)"
   ]
  },
  {
   "cell_type": "code",
   "execution_count": 16,
   "metadata": {},
   "outputs": [
    {
     "data": {
      "application/vnd.plotly.v1+json": {
       "config": {
        "linkText": "Export to plot.ly",
        "plotlyServerURL": "https://plot.ly",
        "showLink": false
       },
       "data": [
        {
         "line": {
          "color": "rgb(66, 244, 155)",
          "width": 2
         },
         "name": "Actual Price",
         "type": "scatter",
         "uid": "37bbf305-579f-4502-96a4-ff6e88852c02",
         "x": [
          "2019-01-07",
          "2019-01-08",
          "2019-01-09",
          "2019-01-10",
          "2019-01-11",
          "2019-01-12",
          "2019-01-13",
          "2019-01-14",
          "2019-01-15",
          "2019-01-16",
          "2019-01-17",
          "2019-01-18",
          "2019-01-19",
          "2019-01-20",
          "2019-01-21",
          "2019-01-22",
          "2019-01-23",
          "2019-01-24",
          "2019-01-25",
          "2019-01-26",
          "2019-01-27",
          "2019-01-28",
          "2019-01-29",
          "2019-01-30",
          "2019-01-31",
          "2019-02-01",
          "2019-02-02",
          "2019-02-03",
          "2019-02-04",
          "2019-02-05",
          "2019-02-06",
          "2019-02-07",
          "2019-02-08",
          "2019-02-09",
          "2019-02-10",
          "2019-02-11",
          "2019-02-12",
          "2019-02-13",
          "2019-02-14",
          "2019-02-15",
          "2019-02-16",
          "2019-02-17",
          "2019-02-18",
          "2019-02-19",
          "2019-02-20",
          "2019-02-21",
          "2019-02-22",
          "2019-02-23",
          "2019-02-24",
          "2019-02-25",
          "2019-02-26",
          "2019-02-27",
          "2019-02-28",
          "2019-03-01",
          "2019-03-02",
          "2019-03-03",
          "2019-03-04",
          "2019-03-05",
          "2019-03-06",
          "2019-03-07",
          "2019-03-08",
          "2019-03-09",
          "2019-03-10",
          "2019-03-11",
          "2019-03-12",
          "2019-03-13"
         ],
         "y": [
          3579.8480079334004,
          3641.4472294848656,
          3603.3979339981242,
          3602.891395534795,
          3615.543329468826,
          3671.5630774817314,
          3607.143437418059,
          3535.7884722170834,
          3551.645193531382,
          3569.39869311952,
          3553.912903448606,
          3557.0705296528463,
          3571.265297842573,
          3545.5780639910367,
          3437.9149573794475,
          3398.568493216251,
          3422.9833781603456,
          3424.7758441186775,
          3416.3293920248584,
          3431.798178824731,
          3425.3328929563245,
          3414.105570185,
          3419.3043624565985,
          3371.5947012740958,
          3366.397902369513,
          3451.412112471177,
          3614.801568033472,
          3608.0836060025044,
          3595.1153218390996,
          3577.7988786427745,
          3582.204119727642,
          3569.0942615891076,
          3570.380412320488,
          3587.538517729728,
          3585.4347878497915,
          3755.974532467019,
          3900.567898165421,
          3910.7275996693747,
          3906.6761754096583,
          3925.2789592991758,
          3980.0753528316054,
          3989.555889381808,
          3792.614466032643,
          3799.852342575977,
          3795.24214638423,
          3810.2133885267435,
          3813.203185525554,
          3805.1935231559814,
          3801.3484394438137,
          3724.950099434725,
          3765.7079156928494,
          3838.758557874717,
          3861.3198086329885,
          3871.8532872811866,
          3889.9811130347175,
          3892.939233004371,
          3864.6784762491648,
          3847.296517624307,
          3861.9674638000006
         ]
        },
        {
         "line": {
          "color": "rgb(244, 146, 65)",
          "width": 2
         },
         "name": "Predicted Price",
         "type": "scatter",
         "uid": "f6498f0e-17fb-421c-a830-b945e3278126",
         "x": [
          "2019-01-07",
          "2019-01-08",
          "2019-01-09",
          "2019-01-10",
          "2019-01-11",
          "2019-01-12",
          "2019-01-13",
          "2019-01-14",
          "2019-01-15",
          "2019-01-16",
          "2019-01-17",
          "2019-01-18",
          "2019-01-19",
          "2019-01-20",
          "2019-01-21",
          "2019-01-22",
          "2019-01-23",
          "2019-01-24",
          "2019-01-25",
          "2019-01-26",
          "2019-01-27",
          "2019-01-28",
          "2019-01-29",
          "2019-01-30",
          "2019-01-31",
          "2019-02-01",
          "2019-02-02",
          "2019-02-03",
          "2019-02-04",
          "2019-02-05",
          "2019-02-06",
          "2019-02-07",
          "2019-02-08",
          "2019-02-09",
          "2019-02-10",
          "2019-02-11",
          "2019-02-12",
          "2019-02-13",
          "2019-02-14",
          "2019-02-15",
          "2019-02-16",
          "2019-02-17",
          "2019-02-18",
          "2019-02-19",
          "2019-02-20",
          "2019-02-21",
          "2019-02-22",
          "2019-02-23",
          "2019-02-24",
          "2019-02-25",
          "2019-02-26",
          "2019-02-27",
          "2019-02-28",
          "2019-03-01",
          "2019-03-02",
          "2019-03-03",
          "2019-03-04",
          "2019-03-05",
          "2019-03-06",
          "2019-03-07",
          "2019-03-08",
          "2019-03-09",
          "2019-03-10",
          "2019-03-11",
          "2019-03-12",
          "2019-03-13"
         ],
         "y": [
          3733.227783203125,
          3788.537109375,
          3754.369384765625,
          3753.91455078125,
          3765.27490234375,
          3815.58935546875,
          3757.732421875,
          3693.685791015625,
          3707.9150390625,
          3723.84814453125,
          3709.949951171875,
          3712.783935546875,
          3725.523681640625,
          3702.470458984375,
          3605.905029296875,
          3570.637939453125,
          3592.520263671875,
          3594.126953125,
          3586.555908203125,
          3600.421630859375,
          3594.626220703125,
          3584.562744140625,
          3589.22216796875,
          3546.468017578125,
          3541.812255859375,
          3618.005859375,
          3764.6083984375,
          3758.576416015625,
          3746.93310546875,
          3731.388427734375,
          3735.3427734375,
          3723.575439453125,
          3724.729736328125,
          3740.13134765625,
          3738.242919921875,
          3891.45263671875,
          4021.537841796875,
          4030.684326171875,
          4027.036865234375,
          4043.78662109375,
          4093.1396484375,
          4101.68115234375,
          3924.400390625,
          3930.90966796875,
          3926.763427734375,
          3940.22900390625,
          3942.91845703125,
          3935.714111328125,
          3932.25537109375,
          3863.56298828125,
          3900.2041015625,
          3965.9091796875,
          3986.2109375,
          3995.69091796875,
          4012.007568359375,
          4014.670166015625,
          3989.233642578125,
          3973.591796875,
          3986.7939453125
         ]
        }
       ],
       "layout": {
        "title": {
         "text": "Comparison of true prices (on the test dataset) with prices our model predicted, by dates"
        },
        "xaxis": {
         "title": {
          "text": "Date"
         }
        },
        "yaxis": {
         "title": {
          "text": "Price, USD"
         }
        }
       }
      },
      "text/html": [
       "<div id=\"7ecee2e0-d9b1-4271-86cd-c6704e6086ea\" style=\"height: 525px; width: 100%;\" class=\"plotly-graph-div\"></div><script type=\"text/javascript\">require([\"plotly\"], function(Plotly) { window.PLOTLYENV=window.PLOTLYENV || {};window.PLOTLYENV.BASE_URL=\"https://plot.ly\";\n",
       "if (document.getElementById(\"7ecee2e0-d9b1-4271-86cd-c6704e6086ea\")) {\n",
       "    Plotly.newPlot(\"7ecee2e0-d9b1-4271-86cd-c6704e6086ea\", [{\"line\": {\"color\": \"rgb(66, 244, 155)\", \"width\": 2}, \"name\": \"Actual Price\", \"x\": [\"2019-01-07\", \"2019-01-08\", \"2019-01-09\", \"2019-01-10\", \"2019-01-11\", \"2019-01-12\", \"2019-01-13\", \"2019-01-14\", \"2019-01-15\", \"2019-01-16\", \"2019-01-17\", \"2019-01-18\", \"2019-01-19\", \"2019-01-20\", \"2019-01-21\", \"2019-01-22\", \"2019-01-23\", \"2019-01-24\", \"2019-01-25\", \"2019-01-26\", \"2019-01-27\", \"2019-01-28\", \"2019-01-29\", \"2019-01-30\", \"2019-01-31\", \"2019-02-01\", \"2019-02-02\", \"2019-02-03\", \"2019-02-04\", \"2019-02-05\", \"2019-02-06\", \"2019-02-07\", \"2019-02-08\", \"2019-02-09\", \"2019-02-10\", \"2019-02-11\", \"2019-02-12\", \"2019-02-13\", \"2019-02-14\", \"2019-02-15\", \"2019-02-16\", \"2019-02-17\", \"2019-02-18\", \"2019-02-19\", \"2019-02-20\", \"2019-02-21\", \"2019-02-22\", \"2019-02-23\", \"2019-02-24\", \"2019-02-25\", \"2019-02-26\", \"2019-02-27\", \"2019-02-28\", \"2019-03-01\", \"2019-03-02\", \"2019-03-03\", \"2019-03-04\", \"2019-03-05\", \"2019-03-06\", \"2019-03-07\", \"2019-03-08\", \"2019-03-09\", \"2019-03-10\", \"2019-03-11\", \"2019-03-12\", \"2019-03-13\"], \"y\": [3579.8480079334004, 3641.4472294848656, 3603.3979339981242, 3602.891395534795, 3615.543329468826, 3671.5630774817314, 3607.143437418059, 3535.7884722170834, 3551.645193531382, 3569.39869311952, 3553.912903448606, 3557.0705296528463, 3571.265297842573, 3545.5780639910367, 3437.9149573794475, 3398.568493216251, 3422.9833781603456, 3424.7758441186775, 3416.3293920248584, 3431.798178824731, 3425.3328929563245, 3414.105570185, 3419.3043624565985, 3371.5947012740958, 3366.397902369513, 3451.412112471177, 3614.801568033472, 3608.0836060025044, 3595.1153218390996, 3577.7988786427745, 3582.204119727642, 3569.0942615891076, 3570.380412320488, 3587.538517729728, 3585.4347878497915, 3755.974532467019, 3900.567898165421, 3910.7275996693747, 3906.6761754096583, 3925.2789592991758, 3980.0753528316054, 3989.555889381808, 3792.614466032643, 3799.852342575977, 3795.24214638423, 3810.2133885267435, 3813.203185525554, 3805.1935231559814, 3801.3484394438137, 3724.950099434725, 3765.7079156928494, 3838.758557874717, 3861.3198086329885, 3871.8532872811866, 3889.9811130347175, 3892.939233004371, 3864.6784762491648, 3847.296517624307, 3861.9674638000006], \"type\": \"scatter\", \"uid\": \"41538a2d-fb0f-41a1-9769-662812f7792b\"}, {\"line\": {\"color\": \"rgb(244, 146, 65)\", \"width\": 2}, \"name\": \"Predicted Price\", \"x\": [\"2019-01-07\", \"2019-01-08\", \"2019-01-09\", \"2019-01-10\", \"2019-01-11\", \"2019-01-12\", \"2019-01-13\", \"2019-01-14\", \"2019-01-15\", \"2019-01-16\", \"2019-01-17\", \"2019-01-18\", \"2019-01-19\", \"2019-01-20\", \"2019-01-21\", \"2019-01-22\", \"2019-01-23\", \"2019-01-24\", \"2019-01-25\", \"2019-01-26\", \"2019-01-27\", \"2019-01-28\", \"2019-01-29\", \"2019-01-30\", \"2019-01-31\", \"2019-02-01\", \"2019-02-02\", \"2019-02-03\", \"2019-02-04\", \"2019-02-05\", \"2019-02-06\", \"2019-02-07\", \"2019-02-08\", \"2019-02-09\", \"2019-02-10\", \"2019-02-11\", \"2019-02-12\", \"2019-02-13\", \"2019-02-14\", \"2019-02-15\", \"2019-02-16\", \"2019-02-17\", \"2019-02-18\", \"2019-02-19\", \"2019-02-20\", \"2019-02-21\", \"2019-02-22\", \"2019-02-23\", \"2019-02-24\", \"2019-02-25\", \"2019-02-26\", \"2019-02-27\", \"2019-02-28\", \"2019-03-01\", \"2019-03-02\", \"2019-03-03\", \"2019-03-04\", \"2019-03-05\", \"2019-03-06\", \"2019-03-07\", \"2019-03-08\", \"2019-03-09\", \"2019-03-10\", \"2019-03-11\", \"2019-03-12\", \"2019-03-13\"], \"y\": [3733.227783203125, 3788.537109375, 3754.369384765625, 3753.91455078125, 3765.27490234375, 3815.58935546875, 3757.732421875, 3693.685791015625, 3707.9150390625, 3723.84814453125, 3709.949951171875, 3712.783935546875, 3725.523681640625, 3702.470458984375, 3605.905029296875, 3570.637939453125, 3592.520263671875, 3594.126953125, 3586.555908203125, 3600.421630859375, 3594.626220703125, 3584.562744140625, 3589.22216796875, 3546.468017578125, 3541.812255859375, 3618.005859375, 3764.6083984375, 3758.576416015625, 3746.93310546875, 3731.388427734375, 3735.3427734375, 3723.575439453125, 3724.729736328125, 3740.13134765625, 3738.242919921875, 3891.45263671875, 4021.537841796875, 4030.684326171875, 4027.036865234375, 4043.78662109375, 4093.1396484375, 4101.68115234375, 3924.400390625, 3930.90966796875, 3926.763427734375, 3940.22900390625, 3942.91845703125, 3935.714111328125, 3932.25537109375, 3863.56298828125, 3900.2041015625, 3965.9091796875, 3986.2109375, 3995.69091796875, 4012.007568359375, 4014.670166015625, 3989.233642578125, 3973.591796875, 3986.7939453125], \"type\": \"scatter\", \"uid\": \"150ea684-529b-42e1-ba45-8c01c5aa286f\"}], {\"title\": {\"text\": \"Comparison of true prices (on the test dataset) with prices our model predicted, by dates\"}, \"xaxis\": {\"title\": {\"text\": \"Date\"}}, \"yaxis\": {\"title\": {\"text\": \"Price, USD\"}}}, {\"linkText\": \"Export to plot.ly\", \"plotlyServerURL\": \"https://plot.ly\", \"showLink\": false}); \n",
       "}\n",
       "});</script><script type=\"text/javascript\">window.addEventListener(\"resize\", function(){if (document.getElementById(\"7ecee2e0-d9b1-4271-86cd-c6704e6086ea\")) {window._Plotly.Plots.resize(document.getElementById(\"7ecee2e0-d9b1-4271-86cd-c6704e6086ea\"));};})</script>"
      ],
      "text/vnd.plotly.v1+html": [
       "<div id=\"7ecee2e0-d9b1-4271-86cd-c6704e6086ea\" style=\"height: 525px; width: 100%;\" class=\"plotly-graph-div\"></div><script type=\"text/javascript\">require([\"plotly\"], function(Plotly) { window.PLOTLYENV=window.PLOTLYENV || {};window.PLOTLYENV.BASE_URL=\"https://plot.ly\";\n",
       "if (document.getElementById(\"7ecee2e0-d9b1-4271-86cd-c6704e6086ea\")) {\n",
       "    Plotly.newPlot(\"7ecee2e0-d9b1-4271-86cd-c6704e6086ea\", [{\"line\": {\"color\": \"rgb(66, 244, 155)\", \"width\": 2}, \"name\": \"Actual Price\", \"x\": [\"2019-01-07\", \"2019-01-08\", \"2019-01-09\", \"2019-01-10\", \"2019-01-11\", \"2019-01-12\", \"2019-01-13\", \"2019-01-14\", \"2019-01-15\", \"2019-01-16\", \"2019-01-17\", \"2019-01-18\", \"2019-01-19\", \"2019-01-20\", \"2019-01-21\", \"2019-01-22\", \"2019-01-23\", \"2019-01-24\", \"2019-01-25\", \"2019-01-26\", \"2019-01-27\", \"2019-01-28\", \"2019-01-29\", \"2019-01-30\", \"2019-01-31\", \"2019-02-01\", \"2019-02-02\", \"2019-02-03\", \"2019-02-04\", \"2019-02-05\", \"2019-02-06\", \"2019-02-07\", \"2019-02-08\", \"2019-02-09\", \"2019-02-10\", \"2019-02-11\", \"2019-02-12\", \"2019-02-13\", \"2019-02-14\", \"2019-02-15\", \"2019-02-16\", \"2019-02-17\", \"2019-02-18\", \"2019-02-19\", \"2019-02-20\", \"2019-02-21\", \"2019-02-22\", \"2019-02-23\", \"2019-02-24\", \"2019-02-25\", \"2019-02-26\", \"2019-02-27\", \"2019-02-28\", \"2019-03-01\", \"2019-03-02\", \"2019-03-03\", \"2019-03-04\", \"2019-03-05\", \"2019-03-06\", \"2019-03-07\", \"2019-03-08\", \"2019-03-09\", \"2019-03-10\", \"2019-03-11\", \"2019-03-12\", \"2019-03-13\"], \"y\": [3579.8480079334004, 3641.4472294848656, 3603.3979339981242, 3602.891395534795, 3615.543329468826, 3671.5630774817314, 3607.143437418059, 3535.7884722170834, 3551.645193531382, 3569.39869311952, 3553.912903448606, 3557.0705296528463, 3571.265297842573, 3545.5780639910367, 3437.9149573794475, 3398.568493216251, 3422.9833781603456, 3424.7758441186775, 3416.3293920248584, 3431.798178824731, 3425.3328929563245, 3414.105570185, 3419.3043624565985, 3371.5947012740958, 3366.397902369513, 3451.412112471177, 3614.801568033472, 3608.0836060025044, 3595.1153218390996, 3577.7988786427745, 3582.204119727642, 3569.0942615891076, 3570.380412320488, 3587.538517729728, 3585.4347878497915, 3755.974532467019, 3900.567898165421, 3910.7275996693747, 3906.6761754096583, 3925.2789592991758, 3980.0753528316054, 3989.555889381808, 3792.614466032643, 3799.852342575977, 3795.24214638423, 3810.2133885267435, 3813.203185525554, 3805.1935231559814, 3801.3484394438137, 3724.950099434725, 3765.7079156928494, 3838.758557874717, 3861.3198086329885, 3871.8532872811866, 3889.9811130347175, 3892.939233004371, 3864.6784762491648, 3847.296517624307, 3861.9674638000006], \"type\": \"scatter\", \"uid\": \"41538a2d-fb0f-41a1-9769-662812f7792b\"}, {\"line\": {\"color\": \"rgb(244, 146, 65)\", \"width\": 2}, \"name\": \"Predicted Price\", \"x\": [\"2019-01-07\", \"2019-01-08\", \"2019-01-09\", \"2019-01-10\", \"2019-01-11\", \"2019-01-12\", \"2019-01-13\", \"2019-01-14\", \"2019-01-15\", \"2019-01-16\", \"2019-01-17\", \"2019-01-18\", \"2019-01-19\", \"2019-01-20\", \"2019-01-21\", \"2019-01-22\", \"2019-01-23\", \"2019-01-24\", \"2019-01-25\", \"2019-01-26\", \"2019-01-27\", \"2019-01-28\", \"2019-01-29\", \"2019-01-30\", \"2019-01-31\", \"2019-02-01\", \"2019-02-02\", \"2019-02-03\", \"2019-02-04\", \"2019-02-05\", \"2019-02-06\", \"2019-02-07\", \"2019-02-08\", \"2019-02-09\", \"2019-02-10\", \"2019-02-11\", \"2019-02-12\", \"2019-02-13\", \"2019-02-14\", \"2019-02-15\", \"2019-02-16\", \"2019-02-17\", \"2019-02-18\", \"2019-02-19\", \"2019-02-20\", \"2019-02-21\", \"2019-02-22\", \"2019-02-23\", \"2019-02-24\", \"2019-02-25\", \"2019-02-26\", \"2019-02-27\", \"2019-02-28\", \"2019-03-01\", \"2019-03-02\", \"2019-03-03\", \"2019-03-04\", \"2019-03-05\", \"2019-03-06\", \"2019-03-07\", \"2019-03-08\", \"2019-03-09\", \"2019-03-10\", \"2019-03-11\", \"2019-03-12\", \"2019-03-13\"], \"y\": [3733.227783203125, 3788.537109375, 3754.369384765625, 3753.91455078125, 3765.27490234375, 3815.58935546875, 3757.732421875, 3693.685791015625, 3707.9150390625, 3723.84814453125, 3709.949951171875, 3712.783935546875, 3725.523681640625, 3702.470458984375, 3605.905029296875, 3570.637939453125, 3592.520263671875, 3594.126953125, 3586.555908203125, 3600.421630859375, 3594.626220703125, 3584.562744140625, 3589.22216796875, 3546.468017578125, 3541.812255859375, 3618.005859375, 3764.6083984375, 3758.576416015625, 3746.93310546875, 3731.388427734375, 3735.3427734375, 3723.575439453125, 3724.729736328125, 3740.13134765625, 3738.242919921875, 3891.45263671875, 4021.537841796875, 4030.684326171875, 4027.036865234375, 4043.78662109375, 4093.1396484375, 4101.68115234375, 3924.400390625, 3930.90966796875, 3926.763427734375, 3940.22900390625, 3942.91845703125, 3935.714111328125, 3932.25537109375, 3863.56298828125, 3900.2041015625, 3965.9091796875, 3986.2109375, 3995.69091796875, 4012.007568359375, 4014.670166015625, 3989.233642578125, 3973.591796875, 3986.7939453125], \"type\": \"scatter\", \"uid\": \"150ea684-529b-42e1-ba45-8c01c5aa286f\"}], {\"title\": {\"text\": \"Comparison of true prices (on the test dataset) with prices our model predicted, by dates\"}, \"xaxis\": {\"title\": {\"text\": \"Date\"}}, \"yaxis\": {\"title\": {\"text\": \"Price, USD\"}}}, {\"linkText\": \"Export to plot.ly\", \"plotlyServerURL\": \"https://plot.ly\", \"showLink\": false}); \n",
       "}\n",
       "});</script><script type=\"text/javascript\">window.addEventListener(\"resize\", function(){if (document.getElementById(\"7ecee2e0-d9b1-4271-86cd-c6704e6086ea\")) {window._Plotly.Plots.resize(document.getElementById(\"7ecee2e0-d9b1-4271-86cd-c6704e6086ea\"));};})</script>"
      ]
     },
     "metadata": {},
     "output_type": "display_data"
    }
   ],
   "source": [
    "Test_Dates = Daily_Price[len(Daily_Price)-days_from_train:].index\n",
    "\n",
    "trace1 = go.Scatter(x=Test_Dates, y=Y_test2_inverse, name= 'Actual Price',\n",
    "                   line = dict(color = ('rgb(66, 244, 155)'),width = 2))\n",
    "trace2 = go.Scatter(x=Test_Dates, y=prediction2_inverse, name= 'Predicted Price',\n",
    "                   line = dict(color = ('rgb(244, 146, 65)'),width = 2))\n",
    "data = [trace1, trace2]\n",
    "layout = dict(title = 'Comparison of true prices (on the test dataset) with prices our model predicted, by dates',\n",
    "             xaxis = dict(title = 'Date'), yaxis = dict(title = 'Price, USD'))\n",
    "fig = dict(data=data, layout=layout)\n",
    "py.iplot(fig, filename='results_demonstrating1')"
   ]
  },
  {
   "cell_type": "code",
   "execution_count": null,
   "metadata": {},
   "outputs": [],
   "source": []
  },
  {
   "cell_type": "code",
   "execution_count": null,
   "metadata": {},
   "outputs": [],
   "source": []
  },
  {
   "cell_type": "code",
   "execution_count": 17,
   "metadata": {},
   "outputs": [],
   "source": [
    "\n",
    "# This function prepares random train/test split,\n",
    "# scales data with MinMaxScaler, create time series labels (Y)\n",
    "def get_split(working_data, n_train, n_test, look_back = 1):\n",
    "    # get a point from which we start to take train dataset and after it - test dataset\n",
    "    start_point = randint(0, (len(working_data)-n_test-n_train))\n",
    "    df_train = working_data[start_point:start_point+n_train]\n",
    "    df_test = working_data[start_point+n_train:start_point+n_train+n_test]\n",
    "\n",
    "    training_set = df_train.values\n",
    "    training_set = np.reshape(training_set, (len(training_set), 1))\n",
    "    test_set = df_test.values\n",
    "    test_set = np.reshape(test_set, (len(test_set), 1))\n",
    "\n",
    "    # scale datasets\n",
    "    scaler_cv = MinMaxScaler()\n",
    "    training_set = scaler_cv.fit_transform(training_set)\n",
    "    test_set = scaler_cv.transform(test_set)\n",
    "\n",
    "    # create datasets which are suitable for time series forecasting\n",
    "    X_train, Y_train = create_lookback(training_set, look_back)\n",
    "    X_test, Y_test = create_lookback(test_set, look_back)\n",
    "\n",
    "    # reshape datasets so that they will be ok for the requirements of the models in Keras\n",
    "    X_train = np.reshape(X_train, (len(X_train), 1, X_train.shape[1]))\n",
    "    X_test = np.reshape(X_test, (len(X_test), 1, X_test.shape[1]))\n",
    "\n",
    "    return X_train, Y_train, X_test, Y_test, scaler_cv, start_point\n",
    "\n",
    "# This function takes datasets from the previous function as input and train model using these datasets\n",
    "def train_model(X_train, Y_train, X_test, Y_test):\n",
    "    # initialize sequential model, add bidirectional LSTM layer and densely connected output neuron\n",
    "    model = Sequential()\n",
    "    model.add(GRU(256, input_shape=(X_train.shape[1], X_train.shape[2])))\n",
    "    model.add(Dense(1))\n",
    "\n",
    "    # compile and fit the model\n",
    "    model.compile(loss='mean_squared_error', optimizer='adam')\n",
    "    model.fit(X_train, Y_train, epochs = 100, batch_size = 16, shuffle = False,\n",
    "                    validation_data=(X_test, Y_test), verbose=0,\n",
    "                    callbacks = [EarlyStopping(monitor='val_loss',min_delta=5e-5,patience=20,verbose=0)])\n",
    "    return model\n",
    "\n",
    "# This function uses trained model and test dataset to calculate RMSE\n",
    "def get_rmse(model, X_test, Y_test, scaler, start_point, working_data, n_train):\n",
    "    # add one additional data point to align shapes of the predictions and true labels\n",
    "    X_test = np.append(X_test, scaler.transform([[working_data.iloc[start_point+n_train+len(X_test)][0]]]))\n",
    "    X_test = np.reshape(X_test, (len(X_test), 1, 1))\n",
    "\n",
    "    # get predictions and then make some transformations to be able to calculate RMSE properly in USD\n",
    "    prediction = model.predict(X_test)\n",
    "    prediction_inverse = scaler.inverse_transform(prediction.reshape(-1, 1))\n",
    "    Y_test_inverse = scaler.inverse_transform(Y_test.reshape(-1, 1))\n",
    "    prediction2_inverse = np.array(prediction_inverse[:,0][1:])\n",
    "    Y_test2_inverse = np.array(Y_test_inverse[:,0])\n",
    "\n",
    "    #calculate RMSE\n",
    "    RMSE = sqrt(mean_squared_error(Y_test2_inverse, prediction2_inverse))\n",
    "    return RMSE, prediction2_inverse"
   ]
  },
  {
   "cell_type": "code",
   "execution_count": 18,
   "metadata": {},
   "outputs": [],
   "source": [
    "def workflow(working_data, get_split, train_model, get_rmse,n_train = 250,n_test = 50,look_back = 1):\n",
    "    X_train, Y_train, X_test, Y_test, scaler, start_point = get_split(working_data, n_train, n_test)\n",
    "    model = train_model(X_train, Y_train, X_test, Y_test)\n",
    "    RMSE, predictions = get_rmse(model, X_test, Y_test, scaler, start_point, working_data, n_train)\n",
    "    return RMSE, predictions"
   ]
  },
  {
   "cell_type": "code",
   "execution_count": 19,
   "metadata": {},
   "outputs": [
    {
     "name": "stdout",
     "output_type": "stream",
     "text": [
      "Test GRU model RMSE: 28.185\n"
     ]
    }
   ],
   "source": [
    "\n",
    "RMSE, predictions = workflow(working_data, get_split, train_model, get_rmse, n_train = 600,n_test = 60)\n",
    "print('Test GRU model RMSE: %.3f' % RMSE)\n"
   ]
  },
  {
   "cell_type": "code",
   "execution_count": 20,
   "metadata": {},
   "outputs": [],
   "source": [
    "def cross_validate(working_data,get_split,train_model,get_rmse,workflow,n_train = 250,n_test = 50,look_back = 1):\n",
    "    rmse_list = []\n",
    "    for i in range(10):\n",
    "        print('Iteration:', i+1)\n",
    "        RMSE, _ = workflow(working_data, get_split, train_model, get_rmse, n_train, n_test, look_back)\n",
    "        rmse_list.append(RMSE)\n",
    "        print('Test RMSE: %.3f' % RMSE)\n",
    "    mean_rmse = np.mean(rmse_list)\n",
    "    return mean_rmse, rmse_list"
   ]
  },
  {
   "cell_type": "code",
   "execution_count": 21,
   "metadata": {},
   "outputs": [
    {
     "name": "stdout",
     "output_type": "stream",
     "text": [
      "Iteration: 1\n",
      "Test RMSE: 38.831\n",
      "Iteration: 2\n",
      "Test RMSE: 23.894\n",
      "Iteration: 3\n",
      "Test RMSE: 55.863\n",
      "Iteration: 4\n",
      "Test RMSE: 35.114\n",
      "Iteration: 5\n",
      "Test RMSE: 29.355\n",
      "Iteration: 6\n",
      "Test RMSE: 12.246\n",
      "Iteration: 7\n",
      "Test RMSE: 5.270\n",
      "Iteration: 8\n",
      "Test RMSE: 13.757\n",
      "Iteration: 9\n",
      "Test RMSE: 47.005\n",
      "Iteration: 10\n",
      "Test RMSE: 59.891\n",
      "Average RMSE:  32.12259279318694\n",
      "RMSE list: [38.83134687363787, 23.89427262366662, 55.86304467627011, 35.11369525399434, 29.355227832520317, 12.245615940356174, 5.2695347213513735, 13.757449093060487, 47.00498196375881, 59.89075895325327]\n"
     ]
    }
   ],
   "source": [
    "mean_rmse, rmse_list = cross_validate(working_data, get_split, train_model, get_rmse, workflow)\n",
    "print('Average RMSE: ', mean_rmse)\n",
    "print('RMSE list:', rmse_list)"
   ]
  },
  {
   "cell_type": "code",
   "execution_count": 22,
   "metadata": {},
   "outputs": [
    {
     "name": "stdout",
     "output_type": "stream",
     "text": [
      "Test GRU model RMSE_new: 83.864\n"
     ]
    }
   ],
   "source": [
    "\n",
    "predictions_new = predictions - mean_rmse\n",
    "\n",
    "RMSE_new = sqrt(mean_squared_error(Y_test2_inverse, predictions_new))\n",
    "print('Test GRU model RMSE_new: %.3f' % RMSE_new)"
   ]
  },
  {
   "cell_type": "code",
   "execution_count": 23,
   "metadata": {},
   "outputs": [
    {
     "data": {
      "application/vnd.plotly.v1+json": {
       "config": {
        "linkText": "Export to plot.ly",
        "plotlyServerURL": "https://plot.ly",
        "showLink": false
       },
       "data": [
        {
         "line": {
          "color": "rgb(66, 244, 155)",
          "width": 2
         },
         "name": "Actual Price",
         "type": "scatter",
         "uid": "7d26e651-3bea-4bca-9dc4-55d2bb7f81a6",
         "x": [
          "2019-01-07",
          "2019-01-08",
          "2019-01-09",
          "2019-01-10",
          "2019-01-11",
          "2019-01-12",
          "2019-01-13",
          "2019-01-14",
          "2019-01-15",
          "2019-01-16",
          "2019-01-17",
          "2019-01-18",
          "2019-01-19",
          "2019-01-20",
          "2019-01-21",
          "2019-01-22",
          "2019-01-23",
          "2019-01-24",
          "2019-01-25",
          "2019-01-26",
          "2019-01-27",
          "2019-01-28",
          "2019-01-29",
          "2019-01-30",
          "2019-01-31",
          "2019-02-01",
          "2019-02-02",
          "2019-02-03",
          "2019-02-04",
          "2019-02-05",
          "2019-02-06",
          "2019-02-07",
          "2019-02-08",
          "2019-02-09",
          "2019-02-10",
          "2019-02-11",
          "2019-02-12",
          "2019-02-13",
          "2019-02-14",
          "2019-02-15",
          "2019-02-16",
          "2019-02-17",
          "2019-02-18",
          "2019-02-19",
          "2019-02-20",
          "2019-02-21",
          "2019-02-22",
          "2019-02-23",
          "2019-02-24",
          "2019-02-25",
          "2019-02-26",
          "2019-02-27",
          "2019-02-28",
          "2019-03-01",
          "2019-03-02",
          "2019-03-03",
          "2019-03-04",
          "2019-03-05",
          "2019-03-06",
          "2019-03-07",
          "2019-03-08",
          "2019-03-09",
          "2019-03-10",
          "2019-03-11",
          "2019-03-12",
          "2019-03-13"
         ],
         "y": [
          3579.8480079334004,
          3641.4472294848656,
          3603.3979339981242,
          3602.891395534795,
          3615.543329468826,
          3671.5630774817314,
          3607.143437418059,
          3535.7884722170834,
          3551.645193531382,
          3569.39869311952,
          3553.912903448606,
          3557.0705296528463,
          3571.265297842573,
          3545.5780639910367,
          3437.9149573794475,
          3398.568493216251,
          3422.9833781603456,
          3424.7758441186775,
          3416.3293920248584,
          3431.798178824731,
          3425.3328929563245,
          3414.105570185,
          3419.3043624565985,
          3371.5947012740958,
          3366.397902369513,
          3451.412112471177,
          3614.801568033472,
          3608.0836060025044,
          3595.1153218390996,
          3577.7988786427745,
          3582.204119727642,
          3569.0942615891076,
          3570.380412320488,
          3587.538517729728,
          3585.4347878497915,
          3755.974532467019,
          3900.567898165421,
          3910.7275996693747,
          3906.6761754096583,
          3925.2789592991758,
          3980.0753528316054,
          3989.555889381808,
          3792.614466032643,
          3799.852342575977,
          3795.24214638423,
          3810.2133885267435,
          3813.203185525554,
          3805.1935231559814,
          3801.3484394438137,
          3724.950099434725,
          3765.7079156928494,
          3838.758557874717,
          3861.3198086329885,
          3871.8532872811866,
          3889.9811130347175,
          3892.939233004371,
          3864.6784762491648,
          3847.296517624307,
          3861.9674638000006
         ]
        },
        {
         "line": {
          "color": "rgb(244, 146, 65)",
          "width": 2
         },
         "name": "Predicted Price",
         "type": "scatter",
         "uid": "5e25dfd8-9e90-4829-b37f-ae1fbff30a06",
         "x": [
          "2019-01-07",
          "2019-01-08",
          "2019-01-09",
          "2019-01-10",
          "2019-01-11",
          "2019-01-12",
          "2019-01-13",
          "2019-01-14",
          "2019-01-15",
          "2019-01-16",
          "2019-01-17",
          "2019-01-18",
          "2019-01-19",
          "2019-01-20",
          "2019-01-21",
          "2019-01-22",
          "2019-01-23",
          "2019-01-24",
          "2019-01-25",
          "2019-01-26",
          "2019-01-27",
          "2019-01-28",
          "2019-01-29",
          "2019-01-30",
          "2019-01-31",
          "2019-02-01",
          "2019-02-02",
          "2019-02-03",
          "2019-02-04",
          "2019-02-05",
          "2019-02-06",
          "2019-02-07",
          "2019-02-08",
          "2019-02-09",
          "2019-02-10",
          "2019-02-11",
          "2019-02-12",
          "2019-02-13",
          "2019-02-14",
          "2019-02-15",
          "2019-02-16",
          "2019-02-17",
          "2019-02-18",
          "2019-02-19",
          "2019-02-20",
          "2019-02-21",
          "2019-02-22",
          "2019-02-23",
          "2019-02-24",
          "2019-02-25",
          "2019-02-26",
          "2019-02-27",
          "2019-02-28",
          "2019-03-01",
          "2019-03-02",
          "2019-03-03",
          "2019-03-04",
          "2019-03-05",
          "2019-03-06",
          "2019-03-07",
          "2019-03-08",
          "2019-03-09",
          "2019-03-10",
          "2019-03-11",
          "2019-03-12",
          "2019-03-13"
         ],
         "y": [
          3524.916015625,
          3524.368896484375,
          3582.996337890625,
          3546.781494140625,
          3546.29931640625,
          3558.3408203125,
          3611.663330078125,
          3550.34619140625,
          3482.44189453125,
          3497.530517578125,
          3514.425048828125,
          3499.6884765625,
          3502.693359375,
          3516.201171875,
          3491.757080078125,
          3389.326416015625,
          3351.901123046875,
          3375.123291015625,
          3376.828125,
          3368.794189453125,
          3383.508056640625,
          3377.3583984375,
          3366.678955078125,
          3371.623779296875,
          3326.246826171875,
          3321.304443359375,
          3402.166015625,
          3557.635009765625,
          3551.240966796875,
          3538.8984375,
          3522.418701171875,
          3526.611328125,
          3514.135009765625,
          3515.359375,
          3531.687744140625,
          3529.685546875,
          3692.028564453125,
          3829.73974609375,
          3839.41796875,
          3835.55859375,
          3853.28076171875,
          3905.4892578125,
          3914.522705078125,
          3726.91845703125,
          3733.811279296875,
          3729.4208984375,
          3743.67822265625,
          3746.52587890625,
          3738.897705078125,
          3735.236083984375,
          3662.48876953125,
          3701.296630859375,
          3770.86474609375,
          3792.353515625,
          3802.386962890625,
          3819.654541015625,
          3822.472412109375,
          3795.552734375,
          3778.996337890625
         ]
        }
       ],
       "layout": {
        "title": {
         "text": "Comparison of true prices (on the test dataset) with prices our model predicted, by dates"
        },
        "xaxis": {
         "title": {
          "text": "Date"
         }
        },
        "yaxis": {
         "title": {
          "text": "Price, USD"
         }
        }
       }
      },
      "text/html": [
       "<div id=\"a5388e0d-f158-4f80-9df9-c8f7a2bfe0e1\" style=\"height: 525px; width: 100%;\" class=\"plotly-graph-div\"></div><script type=\"text/javascript\">require([\"plotly\"], function(Plotly) { window.PLOTLYENV=window.PLOTLYENV || {};window.PLOTLYENV.BASE_URL=\"https://plot.ly\";\n",
       "if (document.getElementById(\"a5388e0d-f158-4f80-9df9-c8f7a2bfe0e1\")) {\n",
       "    Plotly.newPlot(\"a5388e0d-f158-4f80-9df9-c8f7a2bfe0e1\", [{\"line\": {\"color\": \"rgb(66, 244, 155)\", \"width\": 2}, \"name\": \"Actual Price\", \"x\": [\"2019-01-07\", \"2019-01-08\", \"2019-01-09\", \"2019-01-10\", \"2019-01-11\", \"2019-01-12\", \"2019-01-13\", \"2019-01-14\", \"2019-01-15\", \"2019-01-16\", \"2019-01-17\", \"2019-01-18\", \"2019-01-19\", \"2019-01-20\", \"2019-01-21\", \"2019-01-22\", \"2019-01-23\", \"2019-01-24\", \"2019-01-25\", \"2019-01-26\", \"2019-01-27\", \"2019-01-28\", \"2019-01-29\", \"2019-01-30\", \"2019-01-31\", \"2019-02-01\", \"2019-02-02\", \"2019-02-03\", \"2019-02-04\", \"2019-02-05\", \"2019-02-06\", \"2019-02-07\", \"2019-02-08\", \"2019-02-09\", \"2019-02-10\", \"2019-02-11\", \"2019-02-12\", \"2019-02-13\", \"2019-02-14\", \"2019-02-15\", \"2019-02-16\", \"2019-02-17\", \"2019-02-18\", \"2019-02-19\", \"2019-02-20\", \"2019-02-21\", \"2019-02-22\", \"2019-02-23\", \"2019-02-24\", \"2019-02-25\", \"2019-02-26\", \"2019-02-27\", \"2019-02-28\", \"2019-03-01\", \"2019-03-02\", \"2019-03-03\", \"2019-03-04\", \"2019-03-05\", \"2019-03-06\", \"2019-03-07\", \"2019-03-08\", \"2019-03-09\", \"2019-03-10\", \"2019-03-11\", \"2019-03-12\", \"2019-03-13\"], \"y\": [3579.8480079334004, 3641.4472294848656, 3603.3979339981242, 3602.891395534795, 3615.543329468826, 3671.5630774817314, 3607.143437418059, 3535.7884722170834, 3551.645193531382, 3569.39869311952, 3553.912903448606, 3557.0705296528463, 3571.265297842573, 3545.5780639910367, 3437.9149573794475, 3398.568493216251, 3422.9833781603456, 3424.7758441186775, 3416.3293920248584, 3431.798178824731, 3425.3328929563245, 3414.105570185, 3419.3043624565985, 3371.5947012740958, 3366.397902369513, 3451.412112471177, 3614.801568033472, 3608.0836060025044, 3595.1153218390996, 3577.7988786427745, 3582.204119727642, 3569.0942615891076, 3570.380412320488, 3587.538517729728, 3585.4347878497915, 3755.974532467019, 3900.567898165421, 3910.7275996693747, 3906.6761754096583, 3925.2789592991758, 3980.0753528316054, 3989.555889381808, 3792.614466032643, 3799.852342575977, 3795.24214638423, 3810.2133885267435, 3813.203185525554, 3805.1935231559814, 3801.3484394438137, 3724.950099434725, 3765.7079156928494, 3838.758557874717, 3861.3198086329885, 3871.8532872811866, 3889.9811130347175, 3892.939233004371, 3864.6784762491648, 3847.296517624307, 3861.9674638000006], \"type\": \"scatter\", \"uid\": \"35751214-3efc-427d-9a58-01dcabe579d6\"}, {\"line\": {\"color\": \"rgb(244, 146, 65)\", \"width\": 2}, \"name\": \"Predicted Price\", \"x\": [\"2019-01-07\", \"2019-01-08\", \"2019-01-09\", \"2019-01-10\", \"2019-01-11\", \"2019-01-12\", \"2019-01-13\", \"2019-01-14\", \"2019-01-15\", \"2019-01-16\", \"2019-01-17\", \"2019-01-18\", \"2019-01-19\", \"2019-01-20\", \"2019-01-21\", \"2019-01-22\", \"2019-01-23\", \"2019-01-24\", \"2019-01-25\", \"2019-01-26\", \"2019-01-27\", \"2019-01-28\", \"2019-01-29\", \"2019-01-30\", \"2019-01-31\", \"2019-02-01\", \"2019-02-02\", \"2019-02-03\", \"2019-02-04\", \"2019-02-05\", \"2019-02-06\", \"2019-02-07\", \"2019-02-08\", \"2019-02-09\", \"2019-02-10\", \"2019-02-11\", \"2019-02-12\", \"2019-02-13\", \"2019-02-14\", \"2019-02-15\", \"2019-02-16\", \"2019-02-17\", \"2019-02-18\", \"2019-02-19\", \"2019-02-20\", \"2019-02-21\", \"2019-02-22\", \"2019-02-23\", \"2019-02-24\", \"2019-02-25\", \"2019-02-26\", \"2019-02-27\", \"2019-02-28\", \"2019-03-01\", \"2019-03-02\", \"2019-03-03\", \"2019-03-04\", \"2019-03-05\", \"2019-03-06\", \"2019-03-07\", \"2019-03-08\", \"2019-03-09\", \"2019-03-10\", \"2019-03-11\", \"2019-03-12\", \"2019-03-13\"], \"y\": [3524.916015625, 3524.368896484375, 3582.996337890625, 3546.781494140625, 3546.29931640625, 3558.3408203125, 3611.663330078125, 3550.34619140625, 3482.44189453125, 3497.530517578125, 3514.425048828125, 3499.6884765625, 3502.693359375, 3516.201171875, 3491.757080078125, 3389.326416015625, 3351.901123046875, 3375.123291015625, 3376.828125, 3368.794189453125, 3383.508056640625, 3377.3583984375, 3366.678955078125, 3371.623779296875, 3326.246826171875, 3321.304443359375, 3402.166015625, 3557.635009765625, 3551.240966796875, 3538.8984375, 3522.418701171875, 3526.611328125, 3514.135009765625, 3515.359375, 3531.687744140625, 3529.685546875, 3692.028564453125, 3829.73974609375, 3839.41796875, 3835.55859375, 3853.28076171875, 3905.4892578125, 3914.522705078125, 3726.91845703125, 3733.811279296875, 3729.4208984375, 3743.67822265625, 3746.52587890625, 3738.897705078125, 3735.236083984375, 3662.48876953125, 3701.296630859375, 3770.86474609375, 3792.353515625, 3802.386962890625, 3819.654541015625, 3822.472412109375, 3795.552734375, 3778.996337890625], \"type\": \"scatter\", \"uid\": \"2d153a88-13be-4091-b6e9-08a5eb7d403a\"}], {\"title\": {\"text\": \"Comparison of true prices (on the test dataset) with prices our model predicted, by dates\"}, \"xaxis\": {\"title\": {\"text\": \"Date\"}}, \"yaxis\": {\"title\": {\"text\": \"Price, USD\"}}}, {\"linkText\": \"Export to plot.ly\", \"plotlyServerURL\": \"https://plot.ly\", \"showLink\": false}); \n",
       "}\n",
       "});</script><script type=\"text/javascript\">window.addEventListener(\"resize\", function(){if (document.getElementById(\"a5388e0d-f158-4f80-9df9-c8f7a2bfe0e1\")) {window._Plotly.Plots.resize(document.getElementById(\"a5388e0d-f158-4f80-9df9-c8f7a2bfe0e1\"));};})</script>"
      ],
      "text/vnd.plotly.v1+html": [
       "<div id=\"a5388e0d-f158-4f80-9df9-c8f7a2bfe0e1\" style=\"height: 525px; width: 100%;\" class=\"plotly-graph-div\"></div><script type=\"text/javascript\">require([\"plotly\"], function(Plotly) { window.PLOTLYENV=window.PLOTLYENV || {};window.PLOTLYENV.BASE_URL=\"https://plot.ly\";\n",
       "if (document.getElementById(\"a5388e0d-f158-4f80-9df9-c8f7a2bfe0e1\")) {\n",
       "    Plotly.newPlot(\"a5388e0d-f158-4f80-9df9-c8f7a2bfe0e1\", [{\"line\": {\"color\": \"rgb(66, 244, 155)\", \"width\": 2}, \"name\": \"Actual Price\", \"x\": [\"2019-01-07\", \"2019-01-08\", \"2019-01-09\", \"2019-01-10\", \"2019-01-11\", \"2019-01-12\", \"2019-01-13\", \"2019-01-14\", \"2019-01-15\", \"2019-01-16\", \"2019-01-17\", \"2019-01-18\", \"2019-01-19\", \"2019-01-20\", \"2019-01-21\", \"2019-01-22\", \"2019-01-23\", \"2019-01-24\", \"2019-01-25\", \"2019-01-26\", \"2019-01-27\", \"2019-01-28\", \"2019-01-29\", \"2019-01-30\", \"2019-01-31\", \"2019-02-01\", \"2019-02-02\", \"2019-02-03\", \"2019-02-04\", \"2019-02-05\", \"2019-02-06\", \"2019-02-07\", \"2019-02-08\", \"2019-02-09\", \"2019-02-10\", \"2019-02-11\", \"2019-02-12\", \"2019-02-13\", \"2019-02-14\", \"2019-02-15\", \"2019-02-16\", \"2019-02-17\", \"2019-02-18\", \"2019-02-19\", \"2019-02-20\", \"2019-02-21\", \"2019-02-22\", \"2019-02-23\", \"2019-02-24\", \"2019-02-25\", \"2019-02-26\", \"2019-02-27\", \"2019-02-28\", \"2019-03-01\", \"2019-03-02\", \"2019-03-03\", \"2019-03-04\", \"2019-03-05\", \"2019-03-06\", \"2019-03-07\", \"2019-03-08\", \"2019-03-09\", \"2019-03-10\", \"2019-03-11\", \"2019-03-12\", \"2019-03-13\"], \"y\": [3579.8480079334004, 3641.4472294848656, 3603.3979339981242, 3602.891395534795, 3615.543329468826, 3671.5630774817314, 3607.143437418059, 3535.7884722170834, 3551.645193531382, 3569.39869311952, 3553.912903448606, 3557.0705296528463, 3571.265297842573, 3545.5780639910367, 3437.9149573794475, 3398.568493216251, 3422.9833781603456, 3424.7758441186775, 3416.3293920248584, 3431.798178824731, 3425.3328929563245, 3414.105570185, 3419.3043624565985, 3371.5947012740958, 3366.397902369513, 3451.412112471177, 3614.801568033472, 3608.0836060025044, 3595.1153218390996, 3577.7988786427745, 3582.204119727642, 3569.0942615891076, 3570.380412320488, 3587.538517729728, 3585.4347878497915, 3755.974532467019, 3900.567898165421, 3910.7275996693747, 3906.6761754096583, 3925.2789592991758, 3980.0753528316054, 3989.555889381808, 3792.614466032643, 3799.852342575977, 3795.24214638423, 3810.2133885267435, 3813.203185525554, 3805.1935231559814, 3801.3484394438137, 3724.950099434725, 3765.7079156928494, 3838.758557874717, 3861.3198086329885, 3871.8532872811866, 3889.9811130347175, 3892.939233004371, 3864.6784762491648, 3847.296517624307, 3861.9674638000006], \"type\": \"scatter\", \"uid\": \"35751214-3efc-427d-9a58-01dcabe579d6\"}, {\"line\": {\"color\": \"rgb(244, 146, 65)\", \"width\": 2}, \"name\": \"Predicted Price\", \"x\": [\"2019-01-07\", \"2019-01-08\", \"2019-01-09\", \"2019-01-10\", \"2019-01-11\", \"2019-01-12\", \"2019-01-13\", \"2019-01-14\", \"2019-01-15\", \"2019-01-16\", \"2019-01-17\", \"2019-01-18\", \"2019-01-19\", \"2019-01-20\", \"2019-01-21\", \"2019-01-22\", \"2019-01-23\", \"2019-01-24\", \"2019-01-25\", \"2019-01-26\", \"2019-01-27\", \"2019-01-28\", \"2019-01-29\", \"2019-01-30\", \"2019-01-31\", \"2019-02-01\", \"2019-02-02\", \"2019-02-03\", \"2019-02-04\", \"2019-02-05\", \"2019-02-06\", \"2019-02-07\", \"2019-02-08\", \"2019-02-09\", \"2019-02-10\", \"2019-02-11\", \"2019-02-12\", \"2019-02-13\", \"2019-02-14\", \"2019-02-15\", \"2019-02-16\", \"2019-02-17\", \"2019-02-18\", \"2019-02-19\", \"2019-02-20\", \"2019-02-21\", \"2019-02-22\", \"2019-02-23\", \"2019-02-24\", \"2019-02-25\", \"2019-02-26\", \"2019-02-27\", \"2019-02-28\", \"2019-03-01\", \"2019-03-02\", \"2019-03-03\", \"2019-03-04\", \"2019-03-05\", \"2019-03-06\", \"2019-03-07\", \"2019-03-08\", \"2019-03-09\", \"2019-03-10\", \"2019-03-11\", \"2019-03-12\", \"2019-03-13\"], \"y\": [3524.916015625, 3524.368896484375, 3582.996337890625, 3546.781494140625, 3546.29931640625, 3558.3408203125, 3611.663330078125, 3550.34619140625, 3482.44189453125, 3497.530517578125, 3514.425048828125, 3499.6884765625, 3502.693359375, 3516.201171875, 3491.757080078125, 3389.326416015625, 3351.901123046875, 3375.123291015625, 3376.828125, 3368.794189453125, 3383.508056640625, 3377.3583984375, 3366.678955078125, 3371.623779296875, 3326.246826171875, 3321.304443359375, 3402.166015625, 3557.635009765625, 3551.240966796875, 3538.8984375, 3522.418701171875, 3526.611328125, 3514.135009765625, 3515.359375, 3531.687744140625, 3529.685546875, 3692.028564453125, 3829.73974609375, 3839.41796875, 3835.55859375, 3853.28076171875, 3905.4892578125, 3914.522705078125, 3726.91845703125, 3733.811279296875, 3729.4208984375, 3743.67822265625, 3746.52587890625, 3738.897705078125, 3735.236083984375, 3662.48876953125, 3701.296630859375, 3770.86474609375, 3792.353515625, 3802.386962890625, 3819.654541015625, 3822.472412109375, 3795.552734375, 3778.996337890625], \"type\": \"scatter\", \"uid\": \"2d153a88-13be-4091-b6e9-08a5eb7d403a\"}], {\"title\": {\"text\": \"Comparison of true prices (on the test dataset) with prices our model predicted, by dates\"}, \"xaxis\": {\"title\": {\"text\": \"Date\"}}, \"yaxis\": {\"title\": {\"text\": \"Price, USD\"}}}, {\"linkText\": \"Export to plot.ly\", \"plotlyServerURL\": \"https://plot.ly\", \"showLink\": false}); \n",
       "}\n",
       "});</script><script type=\"text/javascript\">window.addEventListener(\"resize\", function(){if (document.getElementById(\"a5388e0d-f158-4f80-9df9-c8f7a2bfe0e1\")) {window._Plotly.Plots.resize(document.getElementById(\"a5388e0d-f158-4f80-9df9-c8f7a2bfe0e1\"));};})</script>"
      ]
     },
     "metadata": {},
     "output_type": "display_data"
    }
   ],
   "source": [
    "\n",
    "trace1 = go.Scatter(x=Test_Dates, y=Y_test2_inverse, name= 'Actual Price',\n",
    "                   line = dict(color = ('rgb(66, 244, 155)'),width = 2))\n",
    "trace2 = go.Scatter(x=Test_Dates, y=predictions_new, name= 'Predicted Price',\n",
    "                   line = dict(color = ('rgb(244, 146, 65)'),width = 2))\n",
    "data = [trace1, trace2]\n",
    "layout = dict(title = 'Comparison of true prices (on the test dataset) with prices our model predicted, by dates',\n",
    "             xaxis = dict(title = 'Date'), yaxis = dict(title = 'Price, USD'))\n",
    "fig = dict(data=data, layout=layout)\n",
    "py.iplot(fig, filename='results_demonstrating2')"
   ]
  },
  {
   "cell_type": "code",
   "execution_count": null,
   "metadata": {},
   "outputs": [],
   "source": []
  },
  {
   "cell_type": "code",
   "execution_count": null,
   "metadata": {},
   "outputs": [],
   "source": []
  }
 ],
 "metadata": {
  "kernelspec": {
   "display_name": "Python 3",
   "language": "python",
   "name": "python3"
  },
  "language_info": {
   "codemirror_mode": {
    "name": "ipython",
    "version": 3
   },
   "file_extension": ".py",
   "mimetype": "text/x-python",
   "name": "python",
   "nbconvert_exporter": "python",
   "pygments_lexer": "ipython3",
   "version": "3.5.6"
  }
 },
 "nbformat": 4,
 "nbformat_minor": 2
}
